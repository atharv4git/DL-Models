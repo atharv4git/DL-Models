{
  "nbformat": 4,
  "nbformat_minor": 0,
  "metadata": {
    "colab": {
      "provenance": []
    },
    "kernelspec": {
      "name": "python3",
      "display_name": "Python 3"
    },
    "language_info": {
      "name": "python"
    },
    "accelerator": "GPU",
    "gpuClass": "standard"
  },
  "cells": [
    {
      "cell_type": "code",
      "execution_count": 29,
      "metadata": {
        "colab": {
          "base_uri": "https://localhost:8080/"
        },
        "id": "FmIH6pw4IdNu",
        "outputId": "71aff213-89b4-4810-e52c-b146508d1ee4"
      },
      "outputs": [
        {
          "output_type": "stream",
          "name": "stdout",
          "text": [
            "Populating the interactive namespace from numpy and matplotlib\n"
          ]
        }
      ],
      "source": [
        "%pylab inline\n",
        "import numpy as np\n",
        "from tqdm import trange"
      ]
    },
    {
      "cell_type": "code",
      "source": [
        "# load the mnist dataset\n",
        "\n",
        "def fetch(url):\n",
        "  import requests, gzip, os, hashlib, numpy\n",
        "  fp = os.path.join(\"/tmp\", hashlib.md5(url.encode('utf-8')).hexdigest())\n",
        "  if os.path.isfile(fp):\n",
        "    with open(fp, \"rb\") as f:\n",
        "      dat = f.read()\n",
        "  else:\n",
        "    with open(fp, \"wb\") as f:\n",
        "      dat = requests.get(url).content\n",
        "      f.write(dat)\n",
        "  return numpy.frombuffer(gzip.decompress(dat), dtype=np.uint8).copy()\n",
        "X_train = fetch(\"http://yann.lecun.com/exdb/mnist/train-images-idx3-ubyte.gz\")[0x10:].reshape((-1, 28, 28))\n",
        "Y_train = fetch(\"http://yann.lecun.com/exdb/mnist/train-labels-idx1-ubyte.gz\")[8:]\n",
        "X_test = fetch(\"http://yann.lecun.com/exdb/mnist/t10k-images-idx3-ubyte.gz\")[0x10:].reshape((-1, 28, 28))\n",
        "Y_test = fetch(\"http://yann.lecun.com/exdb/mnist/t10k-labels-idx1-ubyte.gz\")[8:]"
      ],
      "metadata": {
        "id": "LX6K7L1uIujV"
      },
      "execution_count": 30,
      "outputs": []
    },
    {
      "cell_type": "code",
      "source": [
        "X_train.reshape(-1, 28*28).shape"
      ],
      "metadata": {
        "colab": {
          "base_uri": "https://localhost:8080/"
        },
        "id": "Xa3rRGmiKcWi",
        "outputId": "44958fcb-4a98-441f-af90-e39e689d79f1"
      },
      "execution_count": 31,
      "outputs": [
        {
          "output_type": "execute_result",
          "data": {
            "text/plain": [
              "(60000, 784)"
            ]
          },
          "metadata": {},
          "execution_count": 31
        }
      ]
    },
    {
      "cell_type": "code",
      "source": [
        "imshow(X_train[0]),Y_train[0]"
      ],
      "metadata": {
        "colab": {
          "base_uri": "https://localhost:8080/",
          "height": 282
        },
        "id": "SF7WmjrBLCpw",
        "outputId": "93b863b2-1514-48ff-d185-ddbe0bdf01d8"
      },
      "execution_count": 32,
      "outputs": [
        {
          "output_type": "execute_result",
          "data": {
            "text/plain": [
              "(<matplotlib.image.AxesImage at 0x7f9a8593cd90>, 5)"
            ]
          },
          "metadata": {},
          "execution_count": 32
        },
        {
          "output_type": "display_data",
          "data": {
            "text/plain": [
              "<Figure size 432x288 with 1 Axes>"
            ],
            "image/png": "[encoded data removed]"
          },
          "metadata": {
            "needs_background": "light"
          }
        }
      ]
    },
    {
      "cell_type": "code",
      "source": [
        "import torch\n",
        "import torch.nn as nn\n",
        "class manish(torch.nn.Module):\n",
        "  def __init__(self):\n",
        "    super(manish, self).__init__()\n",
        "    self.l1 = nn.Linear(784,128)\n",
        "    self.act = nn.ReLU()\n",
        "    self.l2 = nn.Linear(128, 10)\n",
        "  def forward(self, x):\n",
        "    x = self.l1(x)\n",
        "    x = self.act(x)\n",
        "    x = self.l2(x)\n",
        "    return x"
      ],
      "metadata": {
        "id": "Nil87CDfLMTE"
      },
      "execution_count": 33,
      "outputs": []
    },
    {
      "cell_type": "code",
      "source": [
        "model = manish()\n",
        "model(torch.tensor(X_train[0:10].reshape((-1,28*28))).float())"
      ],
      "metadata": {
        "colab": {
          "base_uri": "https://localhost:8080/"
        },
        "id": "aXnhUw2DMSGm",
        "outputId": "5b4c356e-b734-4cf7-eec5-a89e52fc2a7e"
      },
      "execution_count": 34,
      "outputs": [
        {
          "output_type": "execute_result",
          "data": {
            "text/plain": [
              "tensor([[-13.7441,   2.3354, -18.0730, -13.4197, -15.0360, -36.7536, -12.2479,\n",
              "         -15.4973,   1.2411,   1.2656],\n",
              "        [  3.8016,  -1.7202, -18.1389, -11.9072,   3.9995,   2.1479, -23.4010,\n",
              "           9.7952,   5.6374, -20.6165],\n",
              "        [  5.3228,   5.8244, -17.3626,   8.1449,  -8.9164,  10.5311, -39.7515,\n",
              "          26.8780, -19.9909, -20.8914],\n",
              "        [ -2.8882,   5.4257, -10.4668, -19.0915,   2.7403,   3.0340, -20.7252,\n",
              "          14.7385, -10.5881,   2.6144],\n",
              "        [ -0.7168,  45.2131, -22.7049,  14.1793, -20.0480,   3.9450, -40.1926,\n",
              "           6.0462, -19.9706, -21.5187],\n",
              "        [ 16.3753,   5.1885, -21.4918,   1.6303,   9.6036, -13.7020, -15.9585,\n",
              "          22.3414, -10.8418, -24.3221],\n",
              "        [-27.8559,  30.9120, -17.9421,   7.5800,  -5.7585,  -7.6352, -30.5180,\n",
              "          18.6725, -20.2886, -27.2636],\n",
              "        [  5.5493,  16.5949,  18.4159, -36.0671, -18.8707,  -3.0129, -44.7950,\n",
              "          -3.4555,   6.6061,  -9.2516],\n",
              "        [-21.3015,  23.8926,  -7.6396,   3.6153, -12.1320, -11.2683, -19.3090,\n",
              "          -2.3226,  -0.7200, -19.3692],\n",
              "        [ 20.7201,  -1.8488,  -9.3717,   3.9338,  12.1397,  -7.3807,  -8.8856,\n",
              "          23.0431, -14.4240, -27.1653]], grad_fn=<AddmmBackward0>)"
            ]
          },
          "metadata": {},
          "execution_count": 34
        }
      ]
    },
    {
      "cell_type": "code",
      "source": [
        "bs = 32\n",
        "loss_CE = nn.CrossEntropyLoss()\n",
        "opt = torch.optim.Adam(model.parameters())\n",
        "losses = []\n",
        "accuracies = []\n",
        "for i in (t := trange(1000)):\n",
        "  samp = np.random.randint(0, X_train.shape[0], size = bs)\n",
        "  x = torch.tensor(X_train[samp].reshape((-1,28*28))).float()\n",
        "  y = torch.tensor(Y_train[samp]).long()\n",
        "  opt.zero_grad()\n",
        "  out = model(x)\n",
        "  cat = torch.argmax(out, dim=1)\n",
        "  accuracy = (cat == y).float().mean()\n",
        "  loss = loss_CE(out,y)\n",
        "  loss.backward()\n",
        "  opt.step()\n",
        "  loss, accuracy = loss.item(), accuracy.item()\n",
        "  losses.append(loss)\n",
        "  accuracies.append(accuracy)\n",
        "  t.set_description(f\"Loss: {loss}, Accuracy: {accuracy}\")"
      ],
      "metadata": {
        "colab": {
          "base_uri": "https://localhost:8080/"
        },
        "id": "XPzbVpogMdFs",
        "outputId": "52fc8269-1dfb-4bd7-a479-3ba9d5b5c8af"
      },
      "execution_count": 38,
      "outputs": [
        {
          "output_type": "stream",
          "name": "stderr",
          "text": [
            "Loss: 0.21746297180652618, Accuracy: 0.90625: 100%|██████████| 1000/1000 [00:04<00:00, 201.87it/s]\n"
          ]
        }
      ]
    },
    {
      "cell_type": "code",
      "source": [
        "plt.ylim(-1,2)\n",
        "plot(losses)\n",
        "plot(accuracies)"
      ],
      "metadata": {
        "colab": {
          "base_uri": "https://localhost:8080/",
          "height": 286
        },
        "id": "Uuu5Uu5KQ14_",
        "outputId": "6159b0f8-9199-4d1d-a39c-f432353aea5f"
      },
      "execution_count": 39,
      "outputs": [
        {
          "output_type": "execute_result",
          "data": {
            "text/plain": [
              "[<matplotlib.lines.Line2D at 0x7f9b31ac22e0>]"
            ]
          },
          "metadata": {},
          "execution_count": 39
        },
        {
          "output_type": "display_data",
          "data": {
            "text/plain": [
              "<Figure size 432x288 with 1 Axes>"
            ],
            "image/png": "[encoded data removed]"
          },
          "metadata": {
            "needs_background": "light"
          }
        }
      ]
    },
    {
      "cell_type": "code",
      "source": [
        "Y_test_preds = torch.argmax(model(torch.tensor(X_test.reshape((-1,28*28))).float()), dim = 1).numpy()"
      ],
      "metadata": {
        "id": "m7sU9aSbU-h8"
      },
      "execution_count": 43,
      "outputs": []
    },
    {
      "cell_type": "code",
      "source": [
        "(Y_test == Y_test_preds).mean()"
      ],
      "metadata": {
        "colab": {
          "base_uri": "https://localhost:8080/"
        },
        "id": "W5Bqf09jWE51",
        "outputId": "419a0028-fd02-4327-89c1-65327a30cd4e"
      },
      "execution_count": 44,
      "outputs": [
        {
          "output_type": "execute_result",
          "data": {
            "text/plain": [
              "0.9278"
            ]
          },
          "metadata": {},
          "execution_count": 44
        }
      ]
    },
    {
      "cell_type": "code",
      "source": [],
      "metadata": {
        "id": "YLXflx2CWyHz"
      },
      "execution_count": null,
      "outputs": []
    }
  ]
}